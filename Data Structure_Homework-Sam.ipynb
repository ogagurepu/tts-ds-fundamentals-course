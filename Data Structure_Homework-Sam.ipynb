{
 "cells": [
  {
   "cell_type": "code",
   "execution_count": 2,
   "id": "bfde95d2",
   "metadata": {},
   "outputs": [
    {
     "name": "stdout",
     "output_type": "stream",
     "text": [
      "(1.0, 2.0)\n",
      "(-1.0, -1.0)\n"
     ]
    }
   ],
   "source": [
    "#Question 1\n",
    "#In mathematics, the quadratic equation ax2+bx+c=0 can be solved with the formula x=−b±b2−4ac√2a.\n",
    "#Write a function solve_quadratic, that returns both solutions of a generic quadratic as a pair (2-tuple) when the coefficients\n",
    "#are given as parameters. It should work like this:\n",
    "#print(solve_quadratic(1,-3,2))\n",
    "#(2.0,1.0)\n",
    "#print(solve_quadratic(1,2,1))\n",
    "#(-1.0,-1.0)\n",
    "#You may want to use the math.sqrt function from the math module in your solution.\n",
    "#Test that your function works in the main function!\n",
    "\n",
    "import math\n",
    "def solve_quadratic(a, b, c):\n",
    "    d = int(b*b) - int(4*a*c)\n",
    "    sol1 = (-b-math.sqrt(d))/(2*a)\n",
    "    sol2 = (-b+math.sqrt(d))/(2*a)\n",
    "    tup = sol1, sol2;\n",
    "    print(tup)\n",
    "    return tup\n",
    "\n",
    "def main():\n",
    "    solve_quadratic(1, -3, 2)\n",
    "    solve_quadratic(1, 2, 1)\n",
    "\n",
    "if __name__ == \"__main__\":\n",
    "    main()\n"
   ]
  },
  {
   "cell_type": "code",
   "execution_count": 3,
   "id": "457c4da3",
   "metadata": {},
   "outputs": [
    {
     "name": "stdout",
     "output_type": "stream",
     "text": [
      "[6, 12, 18]\n",
      "[4, 12, 20, 28]\n",
      "[6, 12, 18, 4, 12, 20, 28]\n"
     ]
    }
   ],
   "source": [
    "# Question 3\n",
    "#Take the following two lists. Create a third list by picking a odd-index elements from the first list and even-index elements from the second.\n",
    "#listOne = [3, 6, 9, 12, 15, 18, 21]\n",
    "#listTwo = [4, 8, 12, 16, 20, 24, 28]\n",
    "\n",
    "\n",
    "listOne = [3, 6, 9, 12, 15, 18, 21]\n",
    "listTwo = [4, 8, 12, 16, 20, 24, 28]\n",
    "\n",
    "listOne = listOne[1::2]\n",
    "print(listOne)\n",
    "listTwo = listTwo[0::2]\n",
    "print(listTwo)\n",
    "\n",
    "listThree = listOne + listTwo\n",
    "print(listThree)\n",
    "\n"
   ]
  },
  {
   "cell_type": "code",
   "execution_count": 4,
   "id": "9dee09c0",
   "metadata": {},
   "outputs": [
    {
     "name": "stdout",
     "output_type": "stream",
     "text": [
      "Original list  [11, 45, 8, 23, 14, 12, 78, 45, 89]\n",
      "Chunk  0 [11, 45, 8]\n",
      "After reversing it  [8, 45, 11]\n",
      "Chunk  1 [23, 14, 12]\n",
      "After reversing it  [12, 14, 23]\n",
      "Chunk  2 [78, 45, 89]\n",
      "After reversing it  [89, 45, 78]\n"
     ]
    }
   ],
   "source": [
    "# Question 4\n",
    "#Take the following list. Slice it into three equal chunks and reverse each list.\n",
    "#sampleList = [11, 45, 8, 23, 14, 12, 78, 45, 89]\n",
    "\n",
    "sample_list = [11, 45, 8, 23, 14, 12, 78, 45, 89]\n",
    "print(\"Original list \", sample_list)\n",
    "length = len(sample_list)\n",
    "chunk_size = int(length / 3)\n",
    "start = 0\n",
    "end = chunk_size\n",
    "\n",
    "# run loop 3 times\n",
    "for i in range(3):\n",
    "    # get indexes\n",
    "    indexes = slice(start, end)\n",
    "    \n",
    "    # get chunk\n",
    "    list_chunk = sample_list[indexes]\n",
    "    print(\"Chunk \", i, list_chunk)\n",
    "    \n",
    "    # reverse chunk\n",
    "    print(\"After reversing it \", list(reversed(list_chunk)))\n",
    "\n",
    "    start = end\n",
    "    end += chunk_size\n"
   ]
  },
  {
   "cell_type": "code",
   "execution_count": 5,
   "id": "bcc2d628",
   "metadata": {},
   "outputs": [
    {
     "name": "stdout",
     "output_type": "stream",
     "text": [
      "List: [47, 64, 69, 37, 76, 83, 95, 97]\n",
      "Dictionary: {'Zach': 47, 'Emma': 69, 'Kelly': 76, 'Jason': 97}\n",
      "after removing unwanted elements from list: [47, 69, 76, 97]\n"
     ]
    }
   ],
   "source": [
    "# Question 5\n",
    "#Iterate through a given list and check if a given element already exists in a dictionary as a key’s value. If not, delete it from the list.\n",
    "#rollNumber = [47, 64, 69, 37, 76, 83, 95, 97]\n",
    "#sampleDict ={'Zach':47, 'Emma':69, 'Kelly':76, 'Jason':97}\n",
    "\n",
    "roll_number = [47, 64, 69, 37, 76, 83, 95, 97]\n",
    "sample_dict = {'Zach': 47, 'Emma': 69, 'Kelly': 76, 'Jason': 97}\n",
    "print(\"List:\", roll_number)\n",
    "print(\"Dictionary:\", sample_dict)\n",
    "# create new list\n",
    "roll_number[:] = [item for item in roll_number if item in sample_dict.values()]\n",
    "print(\"after removing unwanted elements from list:\", roll_number)\n"
   ]
  },
  {
   "cell_type": "code",
   "execution_count": 6,
   "id": "6adfddb9",
   "metadata": {},
   "outputs": [
    {
     "name": "stdout",
     "output_type": "stream",
     "text": [
      "Please enter numbers separated by a space: 22 56 86 89 80\n"
     ]
    }
   ],
   "source": [
    "# Question 2\n",
    "# Get a space-separated list of integers from the user, create a tuple of those integers. \n",
    "# Then compute and print the result of hash(tuple). Documentation: hash():\n",
    "integers=input(\"Please enter numbers separated by a space: \")\n",
    "\n",
    "\n",
    "\n"
   ]
  },
  {
   "cell_type": "code",
   "execution_count": 7,
   "id": "f33ece63",
   "metadata": {},
   "outputs": [
    {
     "name": "stdout",
     "output_type": "stream",
     "text": [
      "22 56 86 89 80\n"
     ]
    }
   ],
   "source": [
    "print(integers)"
   ]
  },
  {
   "cell_type": "code",
   "execution_count": 15,
   "id": "90c2c86c",
   "metadata": {},
   "outputs": [],
   "source": [
    "List_tuple=tuple(integers)"
   ]
  },
  {
   "cell_type": "code",
   "execution_count": 19,
   "id": "d33fedee",
   "metadata": {},
   "outputs": [
    {
     "name": "stdout",
     "output_type": "stream",
     "text": [
      "421197006527575117\n"
     ]
    }
   ],
   "source": [
    "print(hash(List_tuple))"
   ]
  },
  {
   "cell_type": "code",
   "execution_count": null,
   "id": "a8918945",
   "metadata": {},
   "outputs": [],
   "source": []
  }
 ],
 "metadata": {
  "kernelspec": {
   "display_name": "Python 3 (ipykernel)",
   "language": "python",
   "name": "python3"
  },
  "language_info": {
   "codemirror_mode": {
    "name": "ipython",
    "version": 3
   },
   "file_extension": ".py",
   "mimetype": "text/x-python",
   "name": "python",
   "nbconvert_exporter": "python",
   "pygments_lexer": "ipython3",
   "version": "3.9.13"
  }
 },
 "nbformat": 4,
 "nbformat_minor": 5
}
