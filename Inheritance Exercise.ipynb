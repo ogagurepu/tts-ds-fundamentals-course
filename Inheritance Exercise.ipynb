{
 "cells": [
  {
   "cell_type": "code",
   "execution_count": 1,
   "id": "8a62608f",
   "metadata": {},
   "outputs": [
    {
     "name": "stdout",
     "output_type": "stream",
     "text": [
      "F\n",
      "[31, 87, 18, 22, 89]\n"
     ]
    }
   ],
   "source": [
    "#Inheritance Exercise\n",
    "#Complete the following exercise and submit the github link to your jupyter notebook file:\n",
    "#You are given two classes, Person and Student, where Person is the base class and Student is the derived class. Completed code for Person and a declaration for Student are provided for you in the editor. Observe that Student inherits all the properties of Person.\n",
    "#Complete the Student class by writing the following:\n",
    "#A Student class constructor, which has 4 parameters:\n",
    "#A string, firstName\n",
    "#A string, lastName\n",
    "#An integer, id An integer array (or vector) of test scores, scores\n",
    "#A char calculate() method that calculates a Student object's average and returns the grade character representative of their calculated average:\n",
    "\n",
    "#A | 90-100\n",
    "#B | 80-89\n",
    "##D | 60-69\n",
    "#F | <60\n",
    "\n",
    "from random import randint as r \n",
    "class Student:\n",
    "    def __init__(self):\n",
    "        self.firstName = None\n",
    "        self.lastName = None\n",
    "        self.testScores = []\n",
    "    def calculate(self):\n",
    "        i = 1\n",
    "        if len(self.testScores) == 0:\n",
    "            return('Insufficient Data')\n",
    "        else:\n",
    "            total = self.testScores[0]\n",
    "        while i < len(self.testScores):\n",
    "            total+=self.testScores[i]\n",
    "            i+=1\n",
    "            total/=2\n",
    "        if total >= 90:\n",
    "            return('A')\n",
    "        elif total >= 80:\n",
    "            return('B')\n",
    "        elif total >= 70:\n",
    "            return('C')\n",
    "        elif total >= 60:\n",
    "            return('D')\n",
    "        else:\n",
    "            return('F')\n",
    "a = Student()\n",
    "a.testScores.append(r(0,100))\n",
    "a.testScores.append(r(0,100))\n",
    "a.testScores.append(r(0,100))\n",
    "a.testScores.append(r(0,100))\n",
    "a.testScores.append(r(70,100))\n",
    "print(a.calculate())\n",
    "print(a.testScores)\n"
   ]
  },
  {
   "cell_type": "code",
   "execution_count": null,
   "id": "bec10fa0",
   "metadata": {},
   "outputs": [],
   "source": []
  }
 ],
 "metadata": {
  "kernelspec": {
   "display_name": "Python 3 (ipykernel)",
   "language": "python",
   "name": "python3"
  },
  "language_info": {
   "codemirror_mode": {
    "name": "ipython",
    "version": 3
   },
   "file_extension": ".py",
   "mimetype": "text/x-python",
   "name": "python",
   "nbconvert_exporter": "python",
   "pygments_lexer": "ipython3",
   "version": "3.9.13"
  }
 },
 "nbformat": 4,
 "nbformat_minor": 5
}
