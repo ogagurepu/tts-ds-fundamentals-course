{
 "cells": [
  {
   "cell_type": "code",
   "execution_count": 3,
   "id": "bfe9eae8",
   "metadata": {},
   "outputs": [
    {
     "name": "stdout",
     "output_type": "stream",
     "text": [
      "Guess a number between 1 and 9 \n",
      "1\n",
      "Try again...\n",
      "Guess a number between 1 and 9 \n",
      "2\n",
      "Try again...\n",
      "Guess a number between 1 and 9 \n",
      "3\n",
      "Try again...\n",
      "Guess a number between 1 and 9 \n",
      "4\n",
      "Try again...\n",
      "Guess a number between 1 and 9 \n",
      "5\n",
      "Try again...\n",
      "Guess a number between 1 and 9 \n",
      "6\n",
      "Try again...\n",
      "Guess a number between 1 and 9 \n",
      "7\n",
      "Try again...\n",
      "Guess a number between 1 and 9 \n",
      "8\n",
      "You guessed it!\n"
     ]
    }
   ],
   "source": [
    "#Exercise 1\n",
    "#Guess a number between 1 to 9 given by the user\n",
    "from random import randint\n",
    "a = randint(1,9)\n",
    "run = True\n",
    "while run == True:\n",
    "    b = input('Guess a number between 1 and 9 \\n')\n",
    "    if int(b) == a:\n",
    "        run = False\n",
    "        print('You guessed it!')\n",
    "    else:\n",
    "        print('Try again...')\n",
    "\n"
   ]
  },
  {
   "cell_type": "code",
   "execution_count": 4,
   "id": "666e7ac8",
   "metadata": {},
   "outputs": [
    {
     "name": "stdout",
     "output_type": "stream",
     "text": [
      "1qQ....\n",
      "Valid Password\n",
      "0\n"
     ]
    }
   ],
   "source": [
    "#Exercise 2\n",
    "#Check the validity of password input by the user.\n",
    "#Validation:\n",
    "#•At least 1 letter between [a-z] and 1 letter between [A-Z]\n",
    "#•At least 1 number between [0-9]\n",
    "#•At least 1 character from [$#@]\n",
    "#•Minimum length 6 characters\n",
    "#•Maximum length 16 characters\n",
    "\n",
    "def passcheck(a):\n",
    "    i = 0\n",
    "    if len(a) < 6:\n",
    "        print('Password Unavailable: Password needs to be at least 6 characters long.')\n",
    "        return(1)\n",
    "        i = len(a)\n",
    "    elif len(a) > 16:\n",
    "        print('Password Unavailable: Password needs to be less than 16 characters long.')\n",
    "        return(1)\n",
    "        i = len(a)\n",
    "    c = []\n",
    "    while i < len(a):\n",
    "        b = a[i]\n",
    "        d = 0\n",
    "        try:\n",
    "            int(b)\n",
    "        except ValueError:\n",
    "            d = 1\n",
    "        if d == 0:\n",
    "            c.append('n')\n",
    "        else:\n",
    "            b = ord(b)\n",
    "            if b > 126:\n",
    "                print('Password Unavailable: Contains invalid character.')\n",
    "                i = len(a)\n",
    "            elif b < 21:\n",
    "                print('Password Unavailable: Contains invalid character.')\n",
    "            elif b > 64 and b < 91:\n",
    "                c.append('h')\n",
    "            elif b > 96 and b < 123:\n",
    "                c.append('l')\n",
    "            else:\n",
    "                c.append('s')\n",
    "        i+=1\n",
    "    f = {'n':0,'l':0,'h':0,'s':0}\n",
    "    i = 0\n",
    "    while i<len(c):\n",
    "        if c[i]=='n':\n",
    "            f['n'] = 1\n",
    "        elif c[i]=='l':\n",
    "            f['l']= 1\n",
    "        elif c[i]=='h':\n",
    "            f['h'] = 1\n",
    "        elif c[i]=='s':\n",
    "            f['s'] = 1\n",
    "        i+=1\n",
    "    if f['n'] ==0:\n",
    "        print('Password Unavailable: Needs at least 1 number.')\n",
    "    elif f['l'] ==0:\n",
    "        print('Password Unavailable: Needs at least 1 lowercase letter.')\n",
    "    elif f['h']==0:\n",
    "        print('Password Unavailable: Needs at least 1 uppercase letter.')\n",
    "    elif f['s']==0:\n",
    "        print('Password Unavailable: Needs at least 1 special character.')\n",
    "    else:\n",
    "        print('Valid Password')\n",
    "        return(0)\n",
    "    return(1)\n",
    "print(passcheck(input()))\n",
    "\n"
   ]
  },
  {
   "cell_type": "code",
   "execution_count": 5,
   "id": "98a8fe27",
   "metadata": {},
   "outputs": [
    {
     "name": "stdout",
     "output_type": "stream",
     "text": [
      "Input age 1/323\n",
      "Input age 2/320\n",
      "Input age 3/330\n",
      "Oldest:30\n",
      "Youngest20\n"
     ]
    }
   ],
   "source": [
    "#Exercise 3\n",
    "#Get input of the age of 3 people by user and determine oldest and youngest among them\n",
    "a = int(input('Input age 1/3'))\n",
    "b = int(input('Input age 2/3'))\n",
    "c = int(input('Input age 3/3'))\n",
    "big = 0\n",
    "small = 0\n",
    "if a > b:\n",
    "    if a > c:\n",
    "        big = a\n",
    "    else:\n",
    "        big = c\n",
    "else:\n",
    "    if b > c:\n",
    "        big = b\n",
    "    else:\n",
    "        big = c\n",
    "if a < b:\n",
    "    if a < c:\n",
    "        small = a\n",
    "    else:\n",
    "        small = c\n",
    "else:\n",
    "    if b < c:\n",
    "        small = b\n",
    "    else:\n",
    "        small = c\n",
    "print('Oldest:'+str(big))\n",
    "print('Youngest'+str(small))\n",
    "\n",
    "\n"
   ]
  },
  {
   "cell_type": "code",
   "execution_count": 6,
   "id": "28f473ed",
   "metadata": {},
   "outputs": [
    {
     "name": "stdout",
     "output_type": "stream",
     "text": [
      "Number of classes held:12\n",
      "Number of classes attended:10\n",
      "83.33333333333334%\n"
     ]
    }
   ],
   "source": [
    "#Exercise 4\n",
    "#A student will not be allowed to sit in exam if his/her attendance is less than 75%.\n",
    "#Take following input from user\n",
    "#•Number of classes held\n",
    "#•Number of classes attended.\n",
    "#•And print\n",
    "#•percentage of class attended\n",
    "#Is student is allowed to sit in exam or not?\n",
    "a = input('Number of classes held:')\n",
    "b = input('Number of classes attended:')\n",
    "c = int(b)/int(a)\n",
    "print(str(100*c)+'%')\n",
    "if c < 0.75:\n",
    "    print('You cannot take this exam as your attendance is less than 75%')\n",
    "\n",
    "\n"
   ]
  },
  {
   "cell_type": "code",
   "execution_count": 9,
   "id": "d1296111",
   "metadata": {},
   "outputs": [
    {
     "name": "stdout",
     "output_type": "stream",
     "text": [
      "17\n",
      "weird\n"
     ]
    }
   ],
   "source": [
    "#Exercise 5\n",
    "#Get an integer N from the user and perform the following actions:\n",
    "#•if N is odd, print \"weird\"\n",
    "#•if N is even and in the inclusive range of 2 to 5, print \"Not Weird\"\n",
    "#•if N is even and in the inclusive range of 6 to 20, print \"Weird\"\n",
    "#•if N is even and greater than 20, print \"Not Weird\"\n",
    "a = int(input())\n",
    "if (a % 2) == 0:\n",
    "    if a >= 6 and a <= 20:\n",
    "        print('weird')\n",
    "    else:\n",
    "        print('not weird')\n",
    "else:\n",
    "    print('weird')\n",
    "\n",
    "\n"
   ]
  },
  {
   "cell_type": "code",
   "execution_count": null,
   "id": "cc74c5bb",
   "metadata": {},
   "outputs": [],
   "source": []
  }
 ],
 "metadata": {
  "kernelspec": {
   "display_name": "Python 3 (ipykernel)",
   "language": "python",
   "name": "python3"
  },
  "language_info": {
   "codemirror_mode": {
    "name": "ipython",
    "version": 3
   },
   "file_extension": ".py",
   "mimetype": "text/x-python",
   "name": "python",
   "nbconvert_exporter": "python",
   "pygments_lexer": "ipython3",
   "version": "3.9.13"
  }
 },
 "nbformat": 4,
 "nbformat_minor": 5
}
